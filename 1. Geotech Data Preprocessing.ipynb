{
 "cells": [
  {
   "cell_type": "markdown",
   "id": "170d46ae",
   "metadata": {},
   "source": [
    "Assessing the Performance of Machine Learning Algorithms for Soil Classification Using Cone Penetration Test Data"
   ]
  },
  {
   "cell_type": "markdown",
   "id": "1929cf56",
   "metadata": {},
   "source": [
    "# Geotech Data Preprocessing \n",
    "\n",
    "On this notebook, we preprocess Geotech data, from [Cone Penetration Test dataset](http://140.112.12.21/issmge/tc304.htm?=6) for Soil Classification case based on this [paper](https://www.mdpi.com/2076-3417/13/9/5758).\n",
    "\n",
    "Soil classification holds significant importance within the field of geotechnical engineering, particularly during the assessment of a site's response to seismic events. The precise categorization of soil aids in the understanding of soil's dynamic properties and how earthquakes affect its behavior. Traditional soil classification is usually carried out based on CPT data.\n",
    "\n",
    "For many years, the [cone penetration test (CPT)](https://www.youtube.com/watch?v=98Q9Huc9Us0) has been the primary method for conducting field exploration in geotechnical engineering. This test involves inserting a cone-shaped instrument into the soil at a consistent penetration rate and measuring the cone tip resistance (qc) and sleeve friction (fs). The CPT consistently provides results throughout its profile depth. Additionally, the CPT is a fast and cost-effective method for collecting field data to estimate parameters for various applications."
   ]
  },
  {
   "cell_type": "markdown",
   "id": "54840a07",
   "metadata": {},
   "source": [
    "## Libraries"
   ]
  },
  {
   "cell_type": "code",
   "execution_count": 1,
   "id": "711a43eb",
   "metadata": {},
   "outputs": [],
   "source": [
    "import pandas as pd # data processing\n",
    "from glob import glob # filepath pattern\n",
    "import math # math operation"
   ]
  },
  {
   "cell_type": "markdown",
   "id": "6604b779",
   "metadata": {},
   "source": [
    "## Read and Wrangling Data"
   ]
  },
  {
   "cell_type": "code",
   "execution_count": 2,
   "id": "67cf26fc",
   "metadata": {},
   "outputs": [
    {
     "name": "stdout",
     "output_type": "stream",
     "text": [
      "number of files: 232\n"
     ]
    }
   ],
   "source": [
    "# get all files name\n",
    "FOLDERPATH = 'CPT_232_50_50_text/'\n",
    "\n",
    "filenames = glob(FOLDERPATH + '*.txt')\n",
    "print('number of files:', len(filenames))"
   ]
  },
  {
   "cell_type": "code",
   "execution_count": 3,
   "id": "89ad6373",
   "metadata": {},
   "outputs": [
    {
     "name": "stdout",
     "output_type": "stream",
     "text": [
      "232\n"
     ]
    }
   ],
   "source": [
    "# read all files\n",
    "df_list = []\n",
    "for filename in filenames:\n",
    "    df = pd.read_csv(filename, sep=\"\\t\", header=None)\n",
    "    df_list.append(df)\n",
    "print(len(df_list))"
   ]
  },
  {
   "cell_type": "code",
   "execution_count": 4,
   "id": "e02c4e3a",
   "metadata": {},
   "outputs": [
    {
     "name": "stdout",
     "output_type": "stream",
     "text": [
      "rows, columns: (229983, 3)\n"
     ]
    }
   ],
   "source": [
    "# concat all dataframe\n",
    "data_concat = pd.concat(df_list)\n",
    "data_concat = data_concat.reset_index(drop=True)\n",
    "data_concat.columns = ['depth', 'qc', 'fs']\n",
    "print('rows, columns:', data_concat.shape)"
   ]
  },
  {
   "cell_type": "code",
   "execution_count": 5,
   "id": "ef22be11",
   "metadata": {},
   "outputs": [
    {
     "data": {
      "text/html": [
       "<div>\n",
       "<style scoped>\n",
       "    .dataframe tbody tr th:only-of-type {\n",
       "        vertical-align: middle;\n",
       "    }\n",
       "\n",
       "    .dataframe tbody tr th {\n",
       "        vertical-align: top;\n",
       "    }\n",
       "\n",
       "    .dataframe thead th {\n",
       "        text-align: right;\n",
       "    }\n",
       "</style>\n",
       "<table border=\"1\" class=\"dataframe\">\n",
       "  <thead>\n",
       "    <tr style=\"text-align: right;\">\n",
       "      <th></th>\n",
       "      <th>depth</th>\n",
       "      <th>qc</th>\n",
       "      <th>fs</th>\n",
       "    </tr>\n",
       "  </thead>\n",
       "  <tbody>\n",
       "    <tr>\n",
       "      <th>0</th>\n",
       "      <td>15</td>\n",
       "      <td>3.93</td>\n",
       "      <td>5.4</td>\n",
       "    </tr>\n",
       "    <tr>\n",
       "      <th>1</th>\n",
       "      <td>20</td>\n",
       "      <td>5.06</td>\n",
       "      <td>5.4</td>\n",
       "    </tr>\n",
       "    <tr>\n",
       "      <th>2</th>\n",
       "      <td>25</td>\n",
       "      <td>5.35</td>\n",
       "      <td>9.8</td>\n",
       "    </tr>\n",
       "    <tr>\n",
       "      <th>3</th>\n",
       "      <td>30</td>\n",
       "      <td>5.62</td>\n",
       "      <td>9.8</td>\n",
       "    </tr>\n",
       "    <tr>\n",
       "      <th>4</th>\n",
       "      <td>35</td>\n",
       "      <td>5.95</td>\n",
       "      <td>11.7</td>\n",
       "    </tr>\n",
       "    <tr>\n",
       "      <th>...</th>\n",
       "      <td>...</td>\n",
       "      <td>...</td>\n",
       "      <td>...</td>\n",
       "    </tr>\n",
       "    <tr>\n",
       "      <th>229978</th>\n",
       "      <td>5022</td>\n",
       "      <td>2.29</td>\n",
       "      <td>116.8</td>\n",
       "    </tr>\n",
       "    <tr>\n",
       "      <th>229979</th>\n",
       "      <td>5027</td>\n",
       "      <td>2.23</td>\n",
       "      <td>116.3</td>\n",
       "    </tr>\n",
       "    <tr>\n",
       "      <th>229980</th>\n",
       "      <td>5032</td>\n",
       "      <td>2.24</td>\n",
       "      <td>116.3</td>\n",
       "    </tr>\n",
       "    <tr>\n",
       "      <th>229981</th>\n",
       "      <td>5037</td>\n",
       "      <td>2.21</td>\n",
       "      <td>118.8</td>\n",
       "    </tr>\n",
       "    <tr>\n",
       "      <th>229982</th>\n",
       "      <td>5042</td>\n",
       "      <td>2.20</td>\n",
       "      <td>103.6</td>\n",
       "    </tr>\n",
       "  </tbody>\n",
       "</table>\n",
       "<p>229983 rows × 3 columns</p>\n",
       "</div>"
      ],
      "text/plain": [
       "       depth    qc     fs\n",
       "0         15  3.93    5.4\n",
       "1         20  5.06    5.4\n",
       "2         25  5.35    9.8\n",
       "3         30  5.62    9.8\n",
       "4         35  5.95   11.7\n",
       "...      ...   ...    ...\n",
       "229978  5022  2.29  116.8\n",
       "229979  5027  2.23  116.3\n",
       "229980  5032  2.24  116.3\n",
       "229981  5037  2.21  118.8\n",
       "229982  5042  2.20  103.6\n",
       "\n",
       "[229983 rows x 3 columns]"
      ]
     },
     "execution_count": 5,
     "metadata": {},
     "output_type": "execute_result"
    }
   ],
   "source": [
    "data_concat"
   ]
  },
  {
   "cell_type": "code",
   "execution_count": 6,
   "id": "e6ff45cc",
   "metadata": {},
   "outputs": [
    {
     "data": {
      "image/png": "[encoded data removed]",
      "text/plain": [
       "<Figure size 640x480 with 1 Axes>"
      ]
     },
     "metadata": {},
     "output_type": "display_data"
    }
   ],
   "source": [
    "data_concat.plot(kind='box');"
   ]
  },
  {
   "cell_type": "markdown",
   "id": "9cb93b8e",
   "metadata": {},
   "source": [
    "- The first column contains depth below the ground surface to the tip of the cone penetrometer, z (mm).\n",
    "- The second column contains cone tip resistance values, qc (MPa).\n",
    "- The third column contains sleeve friction values, fs (kPa).\n",
    "\n",
    "The data were obtained from two sites located within the central business district of Adelaide, South Australia. The CPTs were collected from an area measuring 50 by 50 m. Each CPT was performed to a depth of 5 m below the ground surface, and the measurement spacing of qc and fs was 5 mm."
   ]
  },
  {
   "cell_type": "markdown",
   "id": "3f7bc5af",
   "metadata": {},
   "source": [
    "### Mising values"
   ]
  },
  {
   "cell_type": "code",
   "execution_count": 7,
   "id": "ae3922cc",
   "metadata": {},
   "outputs": [],
   "source": [
    "# remove missing value\n",
    "data_concat.dropna(inplace=True)"
   ]
  },
  {
   "cell_type": "code",
   "execution_count": 8,
   "id": "673082fa",
   "metadata": {},
   "outputs": [
    {
     "data": {
      "text/plain": [
       "depth    0\n",
       "qc       0\n",
       "fs       0\n",
       "dtype: int64"
      ]
     },
     "execution_count": 8,
     "metadata": {},
     "output_type": "execute_result"
    }
   ],
   "source": [
    "# sanity check\n",
    "data_concat.isna().sum()"
   ]
  },
  {
   "cell_type": "markdown",
   "id": "04967a59",
   "metadata": {},
   "source": [
    "### Data types"
   ]
  },
  {
   "cell_type": "code",
   "execution_count": 9,
   "id": "e58e2654",
   "metadata": {},
   "outputs": [
    {
     "name": "stdout",
     "output_type": "stream",
     "text": [
      "<class 'pandas.core.frame.DataFrame'>\n",
      "Index: 229021 entries, 0 to 229982\n",
      "Data columns (total 3 columns):\n",
      " #   Column  Non-Null Count   Dtype  \n",
      "---  ------  --------------   -----  \n",
      " 0   depth   229021 non-null  object \n",
      " 1   qc      229021 non-null  float64\n",
      " 2   fs      229021 non-null  float64\n",
      "dtypes: float64(2), object(1)\n",
      "memory usage: 7.0+ MB\n"
     ]
    }
   ],
   "source": [
    "#check data types\n",
    "data_concat.info()"
   ]
  },
  {
   "cell_type": "markdown",
   "id": "790b7673",
   "metadata": {},
   "source": [
    "### Data transformation"
   ]
  },
  {
   "cell_type": "markdown",
   "id": "69ce9603",
   "metadata": {},
   "source": [
    "Change the units of each variable based on the paper."
   ]
  },
  {
   "cell_type": "code",
   "execution_count": 10,
   "id": "3a59c0c3",
   "metadata": {},
   "outputs": [
    {
     "data": {
      "text/html": [
       "<div>\n",
       "<style scoped>\n",
       "    .dataframe tbody tr th:only-of-type {\n",
       "        vertical-align: middle;\n",
       "    }\n",
       "\n",
       "    .dataframe tbody tr th {\n",
       "        vertical-align: top;\n",
       "    }\n",
       "\n",
       "    .dataframe thead th {\n",
       "        text-align: right;\n",
       "    }\n",
       "</style>\n",
       "<table border=\"1\" class=\"dataframe\">\n",
       "  <thead>\n",
       "    <tr style=\"text-align: right;\">\n",
       "      <th></th>\n",
       "      <th>depth</th>\n",
       "      <th>qc</th>\n",
       "      <th>fs</th>\n",
       "    </tr>\n",
       "  </thead>\n",
       "  <tbody>\n",
       "    <tr>\n",
       "      <th>0</th>\n",
       "      <td>0.015</td>\n",
       "      <td>3.93</td>\n",
       "      <td>5.4</td>\n",
       "    </tr>\n",
       "    <tr>\n",
       "      <th>1</th>\n",
       "      <td>0.020</td>\n",
       "      <td>5.06</td>\n",
       "      <td>5.4</td>\n",
       "    </tr>\n",
       "    <tr>\n",
       "      <th>2</th>\n",
       "      <td>0.025</td>\n",
       "      <td>5.35</td>\n",
       "      <td>9.8</td>\n",
       "    </tr>\n",
       "    <tr>\n",
       "      <th>3</th>\n",
       "      <td>0.030</td>\n",
       "      <td>5.62</td>\n",
       "      <td>9.8</td>\n",
       "    </tr>\n",
       "    <tr>\n",
       "      <th>4</th>\n",
       "      <td>0.035</td>\n",
       "      <td>5.95</td>\n",
       "      <td>11.7</td>\n",
       "    </tr>\n",
       "  </tbody>\n",
       "</table>\n",
       "</div>"
      ],
      "text/plain": [
       "   depth    qc    fs\n",
       "0  0.015  3.93   5.4\n",
       "1  0.020  5.06   5.4\n",
       "2  0.025  5.35   9.8\n",
       "3  0.030  5.62   9.8\n",
       "4  0.035  5.95  11.7"
      ]
     },
     "execution_count": 10,
     "metadata": {},
     "output_type": "execute_result"
    }
   ],
   "source": [
    "# change mm to m on depth column\n",
    "data_concat.depth = pd.to_numeric(data_concat.depth)\n",
    "data_concat.depth = data_concat.depth * 0.001\n",
    "data_concat.head()"
   ]
  },
  {
   "cell_type": "code",
   "execution_count": 11,
   "id": "ec86c91e",
   "metadata": {},
   "outputs": [
    {
     "data": {
      "text/html": [
       "<div>\n",
       "<style scoped>\n",
       "    .dataframe tbody tr th:only-of-type {\n",
       "        vertical-align: middle;\n",
       "    }\n",
       "\n",
       "    .dataframe tbody tr th {\n",
       "        vertical-align: top;\n",
       "    }\n",
       "\n",
       "    .dataframe thead th {\n",
       "        text-align: right;\n",
       "    }\n",
       "</style>\n",
       "<table border=\"1\" class=\"dataframe\">\n",
       "  <thead>\n",
       "    <tr style=\"text-align: right;\">\n",
       "      <th></th>\n",
       "      <th>depth</th>\n",
       "      <th>qc</th>\n",
       "      <th>fs</th>\n",
       "    </tr>\n",
       "  </thead>\n",
       "  <tbody>\n",
       "    <tr>\n",
       "      <th>0</th>\n",
       "      <td>0.015</td>\n",
       "      <td>3930.0</td>\n",
       "      <td>5.4</td>\n",
       "    </tr>\n",
       "    <tr>\n",
       "      <th>1</th>\n",
       "      <td>0.020</td>\n",
       "      <td>5060.0</td>\n",
       "      <td>5.4</td>\n",
       "    </tr>\n",
       "    <tr>\n",
       "      <th>2</th>\n",
       "      <td>0.025</td>\n",
       "      <td>5350.0</td>\n",
       "      <td>9.8</td>\n",
       "    </tr>\n",
       "    <tr>\n",
       "      <th>3</th>\n",
       "      <td>0.030</td>\n",
       "      <td>5620.0</td>\n",
       "      <td>9.8</td>\n",
       "    </tr>\n",
       "    <tr>\n",
       "      <th>4</th>\n",
       "      <td>0.035</td>\n",
       "      <td>5950.0</td>\n",
       "      <td>11.7</td>\n",
       "    </tr>\n",
       "  </tbody>\n",
       "</table>\n",
       "</div>"
      ],
      "text/plain": [
       "   depth      qc    fs\n",
       "0  0.015  3930.0   5.4\n",
       "1  0.020  5060.0   5.4\n",
       "2  0.025  5350.0   9.8\n",
       "3  0.030  5620.0   9.8\n",
       "4  0.035  5950.0  11.7"
      ]
     },
     "execution_count": 11,
     "metadata": {},
     "output_type": "execute_result"
    }
   ],
   "source": [
    "# change mPa to kPa on qc column\n",
    "data_concat.qc = data_concat.qc * 1000\n",
    "data_concat.head()"
   ]
  },
  {
   "cell_type": "markdown",
   "id": "4f219e56",
   "metadata": {},
   "source": [
    "After transformation:\n",
    "\n",
    "- The first column contains depth below the ground surface to the tip of the cone penetrometer, z (**m**).\n",
    "- The second column contains cone tip resistance values, qc (**kPa**).\n",
    "- The third column contains sleeve friction values, fs (**kPa**)."
   ]
  },
  {
   "cell_type": "markdown",
   "id": "31dde5f7",
   "metadata": {},
   "source": [
    "### Data Outlier\n",
    "\n",
    "Abnormal data readings during CPT operations can primarily occur due to human or procedural errors, such as the addition of a rod. These outliers are not representative of the actual CPT measurements and should be detected and removed during the data preprocessing stage."
   ]
  },
  {
   "cell_type": "code",
   "execution_count": 12,
   "id": "c27a3d75",
   "metadata": {},
   "outputs": [
    {
     "data": {
      "text/html": [
       "<div>\n",
       "<style scoped>\n",
       "    .dataframe tbody tr th:only-of-type {\n",
       "        vertical-align: middle;\n",
       "    }\n",
       "\n",
       "    .dataframe tbody tr th {\n",
       "        vertical-align: top;\n",
       "    }\n",
       "\n",
       "    .dataframe thead th {\n",
       "        text-align: right;\n",
       "    }\n",
       "</style>\n",
       "<table border=\"1\" class=\"dataframe\">\n",
       "  <thead>\n",
       "    <tr style=\"text-align: right;\">\n",
       "      <th></th>\n",
       "      <th>depth</th>\n",
       "      <th>qc</th>\n",
       "      <th>fs</th>\n",
       "    </tr>\n",
       "  </thead>\n",
       "  <tbody>\n",
       "    <tr>\n",
       "      <th>count</th>\n",
       "      <td>229021.000000</td>\n",
       "      <td>229021.000000</td>\n",
       "      <td>229021.000000</td>\n",
       "    </tr>\n",
       "    <tr>\n",
       "      <th>mean</th>\n",
       "      <td>2.531688</td>\n",
       "      <td>3035.549578</td>\n",
       "      <td>154.363791</td>\n",
       "    </tr>\n",
       "    <tr>\n",
       "      <th>std</th>\n",
       "      <td>1.455316</td>\n",
       "      <td>1994.829164</td>\n",
       "      <td>90.422573</td>\n",
       "    </tr>\n",
       "    <tr>\n",
       "      <th>min</th>\n",
       "      <td>0.000000</td>\n",
       "      <td>0.000000</td>\n",
       "      <td>0.000000</td>\n",
       "    </tr>\n",
       "    <tr>\n",
       "      <th>25%</th>\n",
       "      <td>1.272000</td>\n",
       "      <td>2010.000000</td>\n",
       "      <td>103.600000</td>\n",
       "    </tr>\n",
       "    <tr>\n",
       "      <th>50%</th>\n",
       "      <td>2.527000</td>\n",
       "      <td>2450.000000</td>\n",
       "      <td>142.700000</td>\n",
       "    </tr>\n",
       "    <tr>\n",
       "      <th>75%</th>\n",
       "      <td>3.786000</td>\n",
       "      <td>3200.000000</td>\n",
       "      <td>188.700000</td>\n",
       "    </tr>\n",
       "    <tr>\n",
       "      <th>max</th>\n",
       "      <td>5.633000</td>\n",
       "      <td>15000.000000</td>\n",
       "      <td>500.000000</td>\n",
       "    </tr>\n",
       "  </tbody>\n",
       "</table>\n",
       "</div>"
      ],
      "text/plain": [
       "               depth             qc             fs\n",
       "count  229021.000000  229021.000000  229021.000000\n",
       "mean        2.531688    3035.549578     154.363791\n",
       "std         1.455316    1994.829164      90.422573\n",
       "min         0.000000       0.000000       0.000000\n",
       "25%         1.272000    2010.000000     103.600000\n",
       "50%         2.527000    2450.000000     142.700000\n",
       "75%         3.786000    3200.000000     188.700000\n",
       "max         5.633000   15000.000000     500.000000"
      ]
     },
     "execution_count": 12,
     "metadata": {},
     "output_type": "execute_result"
    }
   ],
   "source": [
    "data_concat.describe()"
   ]
  },
  {
   "cell_type": "code",
   "execution_count": 13,
   "id": "6e3ab34e",
   "metadata": {},
   "outputs": [
    {
     "name": "stdout",
     "output_type": "stream",
     "text": [
      "qc IQR:  1190.0000000000002\n"
     ]
    }
   ],
   "source": [
    "# compute qc IQR\n",
    "Q1_qc = data_concat.qc.quantile(0.25)\n",
    "Q3_qc = data_concat.qc.quantile(0.75)\n",
    "IQR_qc = Q3_qc - Q1_qc\n",
    "print('qc IQR: ', IQR_qc)"
   ]
  },
  {
   "cell_type": "code",
   "execution_count": 14,
   "id": "464b9901",
   "metadata": {},
   "outputs": [
    {
     "name": "stdout",
     "output_type": "stream",
     "text": [
      "fs IQR:  85.1\n"
     ]
    }
   ],
   "source": [
    "# compute fs IQR\n",
    "Q1_fs = data_concat.fs.quantile(0.25)\n",
    "Q3_fs = data_concat.fs.quantile(0.75)\n",
    "IQR_fs = Q3_fs - Q1_fs\n",
    "print('fs IQR: ', IQR_fs)"
   ]
  },
  {
   "cell_type": "markdown",
   "id": "872538ef",
   "metadata": {},
   "source": [
    "Determine the upper threshold values for outlier detection by multiplying the IQR by three and adding the third quartile (based on the paper)"
   ]
  },
  {
   "cell_type": "code",
   "execution_count": 15,
   "id": "3d7b4645",
   "metadata": {},
   "outputs": [
    {
     "name": "stdout",
     "output_type": "stream",
     "text": [
      "upper threshold for qc:  6770.000000000001\n"
     ]
    }
   ],
   "source": [
    "# Determine the upper threshold values for outlier detection by \n",
    "# multiplying the IQR by three and adding the third quartile\n",
    "upper_threshold_qc = IQR_qc * 3 + Q3_qc\n",
    "print('upper threshold for qc: ', upper_threshold_qc)"
   ]
  },
  {
   "cell_type": "code",
   "execution_count": 16,
   "id": "5d5538d4",
   "metadata": {},
   "outputs": [
    {
     "name": "stdout",
     "output_type": "stream",
     "text": [
      "upper threshold for fs:  444.0\n"
     ]
    }
   ],
   "source": [
    "# Determine the upper threshold values for outlier detection by \n",
    "# multiplying the IQR by three and adding the third quartile\n",
    "upper_threshold_fs = IQR_fs * 3 + Q3_fs\n",
    "print('upper threshold for fs: ', upper_threshold_fs)"
   ]
  },
  {
   "cell_type": "code",
   "execution_count": 17,
   "id": "debe49e9",
   "metadata": {},
   "outputs": [],
   "source": [
    "# conditional subsetting for outlier values\n",
    "outlier_qc = data_concat.qc >= upper_threshold_qc \n",
    "outlier_fs = data_concat.fs >= upper_threshold_fs"
   ]
  },
  {
   "cell_type": "code",
   "execution_count": 18,
   "id": "b7d54035",
   "metadata": {},
   "outputs": [
    {
     "name": "stdout",
     "output_type": "stream",
     "text": [
      "qc max value:  6770.000000000001\n",
      "fs max value:  444.0\n"
     ]
    }
   ],
   "source": [
    "# replace the outlier values with the threshold value\n",
    "data_concat.loc[outlier_qc, 'qc'] = upper_threshold_qc\n",
    "data_concat.loc[outlier_fs, 'fs'] = upper_threshold_fs\n",
    "\n",
    "print('qc max value: ', data_concat.qc.max())\n",
    "print('fs max value: ', data_concat.fs.max())"
   ]
  },
  {
   "cell_type": "code",
   "execution_count": 19,
   "id": "21c9963b",
   "metadata": {},
   "outputs": [
    {
     "data": {
      "text/html": [
       "<div>\n",
       "<style scoped>\n",
       "    .dataframe tbody tr th:only-of-type {\n",
       "        vertical-align: middle;\n",
       "    }\n",
       "\n",
       "    .dataframe tbody tr th {\n",
       "        vertical-align: top;\n",
       "    }\n",
       "\n",
       "    .dataframe thead th {\n",
       "        text-align: right;\n",
       "    }\n",
       "</style>\n",
       "<table border=\"1\" class=\"dataframe\">\n",
       "  <thead>\n",
       "    <tr style=\"text-align: right;\">\n",
       "      <th></th>\n",
       "      <th>depth</th>\n",
       "      <th>qc</th>\n",
       "      <th>fs</th>\n",
       "    </tr>\n",
       "  </thead>\n",
       "  <tbody>\n",
       "    <tr>\n",
       "      <th>1998</th>\n",
       "      <td>0.005</td>\n",
       "      <td>1280.0</td>\n",
       "      <td>0.0</td>\n",
       "    </tr>\n",
       "    <tr>\n",
       "      <th>1999</th>\n",
       "      <td>0.010</td>\n",
       "      <td>1390.0</td>\n",
       "      <td>0.0</td>\n",
       "    </tr>\n",
       "    <tr>\n",
       "      <th>2000</th>\n",
       "      <td>0.015</td>\n",
       "      <td>1160.0</td>\n",
       "      <td>0.0</td>\n",
       "    </tr>\n",
       "    <tr>\n",
       "      <th>2001</th>\n",
       "      <td>0.020</td>\n",
       "      <td>1390.0</td>\n",
       "      <td>0.0</td>\n",
       "    </tr>\n",
       "    <tr>\n",
       "      <th>2002</th>\n",
       "      <td>0.025</td>\n",
       "      <td>1390.0</td>\n",
       "      <td>0.0</td>\n",
       "    </tr>\n",
       "    <tr>\n",
       "      <th>...</th>\n",
       "      <td>...</td>\n",
       "      <td>...</td>\n",
       "      <td>...</td>\n",
       "    </tr>\n",
       "    <tr>\n",
       "      <th>227345</th>\n",
       "      <td>0.010</td>\n",
       "      <td>0.0</td>\n",
       "      <td>21.0</td>\n",
       "    </tr>\n",
       "    <tr>\n",
       "      <th>227346</th>\n",
       "      <td>0.015</td>\n",
       "      <td>0.0</td>\n",
       "      <td>19.1</td>\n",
       "    </tr>\n",
       "    <tr>\n",
       "      <th>227347</th>\n",
       "      <td>0.020</td>\n",
       "      <td>0.0</td>\n",
       "      <td>19.1</td>\n",
       "    </tr>\n",
       "    <tr>\n",
       "      <th>227348</th>\n",
       "      <td>0.025</td>\n",
       "      <td>0.0</td>\n",
       "      <td>20.0</td>\n",
       "    </tr>\n",
       "    <tr>\n",
       "      <th>227356</th>\n",
       "      <td>0.065</td>\n",
       "      <td>0.0</td>\n",
       "      <td>25.4</td>\n",
       "    </tr>\n",
       "  </tbody>\n",
       "</table>\n",
       "<p>7882 rows × 3 columns</p>\n",
       "</div>"
      ],
      "text/plain": [
       "        depth      qc    fs\n",
       "1998    0.005  1280.0   0.0\n",
       "1999    0.010  1390.0   0.0\n",
       "2000    0.015  1160.0   0.0\n",
       "2001    0.020  1390.0   0.0\n",
       "2002    0.025  1390.0   0.0\n",
       "...       ...     ...   ...\n",
       "227345  0.010     0.0  21.0\n",
       "227346  0.015     0.0  19.1\n",
       "227347  0.020     0.0  19.1\n",
       "227348  0.025     0.0  20.0\n",
       "227356  0.065     0.0  25.4\n",
       "\n",
       "[7882 rows x 3 columns]"
      ]
     },
     "execution_count": 19,
     "metadata": {},
     "output_type": "execute_result"
    }
   ],
   "source": [
    "# check zero value on qc and fs variable\n",
    "data_concat[(data_concat.qc == 0) | (data_concat.fs == 0)]"
   ]
  },
  {
   "cell_type": "code",
   "execution_count": 20,
   "id": "52e933e3",
   "metadata": {},
   "outputs": [],
   "source": [
    "# remove zero qc value\n",
    "data_concat.drop(data_concat[(data_concat.qc == 0) | (data_concat.fs == 0)].index, inplace=True)"
   ]
  },
  {
   "cell_type": "markdown",
   "id": "148141d5",
   "metadata": {},
   "source": [
    "### Estimate the friction ratio (Rf)"
   ]
  },
  {
   "cell_type": "code",
   "execution_count": 21,
   "id": "30d467b7",
   "metadata": {},
   "outputs": [
    {
     "data": {
      "text/html": [
       "<div>\n",
       "<style scoped>\n",
       "    .dataframe tbody tr th:only-of-type {\n",
       "        vertical-align: middle;\n",
       "    }\n",
       "\n",
       "    .dataframe tbody tr th {\n",
       "        vertical-align: top;\n",
       "    }\n",
       "\n",
       "    .dataframe thead th {\n",
       "        text-align: right;\n",
       "    }\n",
       "</style>\n",
       "<table border=\"1\" class=\"dataframe\">\n",
       "  <thead>\n",
       "    <tr style=\"text-align: right;\">\n",
       "      <th></th>\n",
       "      <th>depth</th>\n",
       "      <th>qc</th>\n",
       "      <th>fs</th>\n",
       "      <th>Rf</th>\n",
       "    </tr>\n",
       "  </thead>\n",
       "  <tbody>\n",
       "    <tr>\n",
       "      <th>0</th>\n",
       "      <td>0.015</td>\n",
       "      <td>3930.0</td>\n",
       "      <td>5.4</td>\n",
       "      <td>0.001374</td>\n",
       "    </tr>\n",
       "    <tr>\n",
       "      <th>1</th>\n",
       "      <td>0.020</td>\n",
       "      <td>5060.0</td>\n",
       "      <td>5.4</td>\n",
       "      <td>0.001067</td>\n",
       "    </tr>\n",
       "    <tr>\n",
       "      <th>2</th>\n",
       "      <td>0.025</td>\n",
       "      <td>5350.0</td>\n",
       "      <td>9.8</td>\n",
       "      <td>0.001832</td>\n",
       "    </tr>\n",
       "    <tr>\n",
       "      <th>3</th>\n",
       "      <td>0.030</td>\n",
       "      <td>5620.0</td>\n",
       "      <td>9.8</td>\n",
       "      <td>0.001744</td>\n",
       "    </tr>\n",
       "    <tr>\n",
       "      <th>4</th>\n",
       "      <td>0.035</td>\n",
       "      <td>5950.0</td>\n",
       "      <td>11.7</td>\n",
       "      <td>0.001966</td>\n",
       "    </tr>\n",
       "    <tr>\n",
       "      <th>...</th>\n",
       "      <td>...</td>\n",
       "      <td>...</td>\n",
       "      <td>...</td>\n",
       "      <td>...</td>\n",
       "    </tr>\n",
       "    <tr>\n",
       "      <th>229978</th>\n",
       "      <td>5.022</td>\n",
       "      <td>2290.0</td>\n",
       "      <td>116.8</td>\n",
       "      <td>0.051004</td>\n",
       "    </tr>\n",
       "    <tr>\n",
       "      <th>229979</th>\n",
       "      <td>5.027</td>\n",
       "      <td>2230.0</td>\n",
       "      <td>116.3</td>\n",
       "      <td>0.052152</td>\n",
       "    </tr>\n",
       "    <tr>\n",
       "      <th>229980</th>\n",
       "      <td>5.032</td>\n",
       "      <td>2240.0</td>\n",
       "      <td>116.3</td>\n",
       "      <td>0.051920</td>\n",
       "    </tr>\n",
       "    <tr>\n",
       "      <th>229981</th>\n",
       "      <td>5.037</td>\n",
       "      <td>2210.0</td>\n",
       "      <td>118.8</td>\n",
       "      <td>0.053756</td>\n",
       "    </tr>\n",
       "    <tr>\n",
       "      <th>229982</th>\n",
       "      <td>5.042</td>\n",
       "      <td>2200.0</td>\n",
       "      <td>103.6</td>\n",
       "      <td>0.047091</td>\n",
       "    </tr>\n",
       "  </tbody>\n",
       "</table>\n",
       "<p>221139 rows × 4 columns</p>\n",
       "</div>"
      ],
      "text/plain": [
       "        depth      qc     fs        Rf\n",
       "0       0.015  3930.0    5.4  0.001374\n",
       "1       0.020  5060.0    5.4  0.001067\n",
       "2       0.025  5350.0    9.8  0.001832\n",
       "3       0.030  5620.0    9.8  0.001744\n",
       "4       0.035  5950.0   11.7  0.001966\n",
       "...       ...     ...    ...       ...\n",
       "229978  5.022  2290.0  116.8  0.051004\n",
       "229979  5.027  2230.0  116.3  0.052152\n",
       "229980  5.032  2240.0  116.3  0.051920\n",
       "229981  5.037  2210.0  118.8  0.053756\n",
       "229982  5.042  2200.0  103.6  0.047091\n",
       "\n",
       "[221139 rows x 4 columns]"
      ]
     },
     "execution_count": 21,
     "metadata": {},
     "output_type": "execute_result"
    }
   ],
   "source": [
    "Rf_formula = lambda row: row.fs/row.qc # define a function for the new column\n",
    "Rf_col = data_concat.apply(Rf_formula, axis=1) # get column data with an index\n",
    "data_concat = data_concat.assign(Rf=Rf_col.values) # assign values to column 'Rf'\n",
    "data_concat"
   ]
  },
  {
   "cell_type": "code",
   "execution_count": 22,
   "id": "a226e491",
   "metadata": {},
   "outputs": [
    {
     "data": {
      "text/html": [
       "<div>\n",
       "<style scoped>\n",
       "    .dataframe tbody tr th:only-of-type {\n",
       "        vertical-align: middle;\n",
       "    }\n",
       "\n",
       "    .dataframe tbody tr th {\n",
       "        vertical-align: top;\n",
       "    }\n",
       "\n",
       "    .dataframe thead th {\n",
       "        text-align: right;\n",
       "    }\n",
       "</style>\n",
       "<table border=\"1\" class=\"dataframe\">\n",
       "  <thead>\n",
       "    <tr style=\"text-align: right;\">\n",
       "      <th></th>\n",
       "      <th>depth</th>\n",
       "      <th>qc</th>\n",
       "      <th>fs</th>\n",
       "      <th>Rf</th>\n",
       "    </tr>\n",
       "  </thead>\n",
       "  <tbody>\n",
       "    <tr>\n",
       "      <th>count</th>\n",
       "      <td>221139.000000</td>\n",
       "      <td>221139.000000</td>\n",
       "      <td>221139.000000</td>\n",
       "      <td>221139.000000</td>\n",
       "    </tr>\n",
       "    <tr>\n",
       "      <th>mean</th>\n",
       "      <td>2.574564</td>\n",
       "      <td>2913.744749</td>\n",
       "      <td>159.158139</td>\n",
       "      <td>0.058250</td>\n",
       "    </tr>\n",
       "    <tr>\n",
       "      <th>std</th>\n",
       "      <td>1.428493</td>\n",
       "      <td>1435.893688</td>\n",
       "      <td>84.696529</td>\n",
       "      <td>0.047164</td>\n",
       "    </tr>\n",
       "    <tr>\n",
       "      <th>min</th>\n",
       "      <td>0.005000</td>\n",
       "      <td>10.000000</td>\n",
       "      <td>0.300000</td>\n",
       "      <td>0.000074</td>\n",
       "    </tr>\n",
       "    <tr>\n",
       "      <th>25%</th>\n",
       "      <td>1.357000</td>\n",
       "      <td>2040.000000</td>\n",
       "      <td>108.500000</td>\n",
       "      <td>0.044159</td>\n",
       "    </tr>\n",
       "    <tr>\n",
       "      <th>50%</th>\n",
       "      <td>2.569000</td>\n",
       "      <td>2480.000000</td>\n",
       "      <td>145.200000</td>\n",
       "      <td>0.059289</td>\n",
       "    </tr>\n",
       "    <tr>\n",
       "      <th>75%</th>\n",
       "      <td>3.798000</td>\n",
       "      <td>3240.000000</td>\n",
       "      <td>191.600000</td>\n",
       "      <td>0.071632</td>\n",
       "    </tr>\n",
       "    <tr>\n",
       "      <th>max</th>\n",
       "      <td>5.633000</td>\n",
       "      <td>6770.000000</td>\n",
       "      <td>444.000000</td>\n",
       "      <td>8.990000</td>\n",
       "    </tr>\n",
       "  </tbody>\n",
       "</table>\n",
       "</div>"
      ],
      "text/plain": [
       "               depth             qc             fs             Rf\n",
       "count  221139.000000  221139.000000  221139.000000  221139.000000\n",
       "mean        2.574564    2913.744749     159.158139       0.058250\n",
       "std         1.428493    1435.893688      84.696529       0.047164\n",
       "min         0.005000      10.000000       0.300000       0.000074\n",
       "25%         1.357000    2040.000000     108.500000       0.044159\n",
       "50%         2.569000    2480.000000     145.200000       0.059289\n",
       "75%         3.798000    3240.000000     191.600000       0.071632\n",
       "max         5.633000    6770.000000     444.000000       8.990000"
      ]
     },
     "execution_count": 22,
     "metadata": {},
     "output_type": "execute_result"
    }
   ],
   "source": [
    "data_concat.describe()"
   ]
  },
  {
   "cell_type": "code",
   "execution_count": 23,
   "id": "d0ff76f4",
   "metadata": {},
   "outputs": [
    {
     "data": {
      "text/plain": [
       "depth    0\n",
       "qc       0\n",
       "fs       0\n",
       "Rf       0\n",
       "dtype: int64"
      ]
     },
     "execution_count": 23,
     "metadata": {},
     "output_type": "execute_result"
    }
   ],
   "source": [
    "# sanity check\n",
    "data_concat.isna().sum()"
   ]
  },
  {
   "cell_type": "markdown",
   "id": "32b0a2dd",
   "metadata": {},
   "source": [
    "- yg pa pake yg 100 kPa"
   ]
  },
  {
   "cell_type": "markdown",
   "id": "97ccc8de",
   "metadata": {},
   "source": [
    "## Robertson Classification \n",
    "\n",
    "Robertson classification based on lc boundaries for label/target variable. The formula we follow is based on [this paper](https://www.cpt-robertson.com/PublicationsPDF/2-56%20RobSBT.pdf).\n",
    "\n",
    "$$lc \\ formula = \\sqrt{(3.47 - log(\\frac{q_c}{p_a}))^2 + (log(R_f) + 1.22)^2}$$\n",
    "\n",
    "where:\n",
    "\n",
    "- qc = CPT cone resistance (or corrected cone resistance, qt)\n",
    "- Rf = friction ratio = (fs/qc)100%\n",
    "- fs = CPT sleeve friction"
   ]
  },
  {
   "cell_type": "code",
   "execution_count": 24,
   "id": "e165ea47",
   "metadata": {},
   "outputs": [
    {
     "data": {
      "text/html": [
       "<div>\n",
       "<style scoped>\n",
       "    .dataframe tbody tr th:only-of-type {\n",
       "        vertical-align: middle;\n",
       "    }\n",
       "\n",
       "    .dataframe tbody tr th {\n",
       "        vertical-align: top;\n",
       "    }\n",
       "\n",
       "    .dataframe thead th {\n",
       "        text-align: right;\n",
       "    }\n",
       "</style>\n",
       "<table border=\"1\" class=\"dataframe\">\n",
       "  <thead>\n",
       "    <tr style=\"text-align: right;\">\n",
       "      <th></th>\n",
       "      <th>depth</th>\n",
       "      <th>qc</th>\n",
       "      <th>fs</th>\n",
       "      <th>Rf</th>\n",
       "      <th>lc</th>\n",
       "    </tr>\n",
       "  </thead>\n",
       "  <tbody>\n",
       "    <tr>\n",
       "      <th>0</th>\n",
       "      <td>0.015</td>\n",
       "      <td>3930.0</td>\n",
       "      <td>5.4</td>\n",
       "      <td>0.001374</td>\n",
       "      <td>1.242170</td>\n",
       "    </tr>\n",
       "    <tr>\n",
       "      <th>1</th>\n",
       "      <td>0.020</td>\n",
       "      <td>5060.0</td>\n",
       "      <td>5.4</td>\n",
       "      <td>0.001067</td>\n",
       "      <td>1.309667</td>\n",
       "    </tr>\n",
       "    <tr>\n",
       "      <th>2</th>\n",
       "      <td>0.025</td>\n",
       "      <td>5350.0</td>\n",
       "      <td>9.8</td>\n",
       "      <td>0.001832</td>\n",
       "      <td>1.331114</td>\n",
       "    </tr>\n",
       "    <tr>\n",
       "      <th>3</th>\n",
       "      <td>0.030</td>\n",
       "      <td>5620.0</td>\n",
       "      <td>9.8</td>\n",
       "      <td>0.001744</td>\n",
       "      <td>1.350951</td>\n",
       "    </tr>\n",
       "    <tr>\n",
       "      <th>4</th>\n",
       "      <td>0.035</td>\n",
       "      <td>5950.0</td>\n",
       "      <td>11.7</td>\n",
       "      <td>0.001966</td>\n",
       "      <td>1.376021</td>\n",
       "    </tr>\n",
       "    <tr>\n",
       "      <th>...</th>\n",
       "      <td>...</td>\n",
       "      <td>...</td>\n",
       "      <td>...</td>\n",
       "      <td>...</td>\n",
       "      <td>...</td>\n",
       "    </tr>\n",
       "    <tr>\n",
       "      <th>229978</th>\n",
       "      <td>5.022</td>\n",
       "      <td>2290.0</td>\n",
       "      <td>116.8</td>\n",
       "      <td>0.051004</td>\n",
       "      <td>1.303819</td>\n",
       "    </tr>\n",
       "    <tr>\n",
       "      <th>229979</th>\n",
       "      <td>5.027</td>\n",
       "      <td>2230.0</td>\n",
       "      <td>116.3</td>\n",
       "      <td>0.052152</td>\n",
       "      <td>1.310886</td>\n",
       "    </tr>\n",
       "    <tr>\n",
       "      <th>229980</th>\n",
       "      <td>5.032</td>\n",
       "      <td>2240.0</td>\n",
       "      <td>116.3</td>\n",
       "      <td>0.051920</td>\n",
       "      <td>1.309627</td>\n",
       "    </tr>\n",
       "    <tr>\n",
       "      <th>229981</th>\n",
       "      <td>5.037</td>\n",
       "      <td>2210.0</td>\n",
       "      <td>118.8</td>\n",
       "      <td>0.053756</td>\n",
       "      <td>1.314501</td>\n",
       "    </tr>\n",
       "    <tr>\n",
       "      <th>229982</th>\n",
       "      <td>5.042</td>\n",
       "      <td>2200.0</td>\n",
       "      <td>103.6</td>\n",
       "      <td>0.047091</td>\n",
       "      <td>1.309462</td>\n",
       "    </tr>\n",
       "  </tbody>\n",
       "</table>\n",
       "<p>221139 rows × 5 columns</p>\n",
       "</div>"
      ],
      "text/plain": [
       "        depth      qc     fs        Rf        lc\n",
       "0       0.015  3930.0    5.4  0.001374  1.242170\n",
       "1       0.020  5060.0    5.4  0.001067  1.309667\n",
       "2       0.025  5350.0    9.8  0.001832  1.331114\n",
       "3       0.030  5620.0    9.8  0.001744  1.350951\n",
       "4       0.035  5950.0   11.7  0.001966  1.376021\n",
       "...       ...     ...    ...       ...       ...\n",
       "229978  5.022  2290.0  116.8  0.051004  1.303819\n",
       "229979  5.027  2230.0  116.3  0.052152  1.310886\n",
       "229980  5.032  2240.0  116.3  0.051920  1.309627\n",
       "229981  5.037  2210.0  118.8  0.053756  1.314501\n",
       "229982  5.042  2200.0  103.6  0.047091  1.309462\n",
       "\n",
       "[221139 rows x 5 columns]"
      ]
     },
     "execution_count": 24,
     "metadata": {},
     "output_type": "execute_result"
    }
   ],
   "source": [
    "# Robertson classification based on lc boundaries\n",
    "\n",
    "lc_formula = lambda row: math.sqrt((3.47 - math.log1p(row.qc/100))**2 + (math.log1p(row.Rf) + 1.22)**2)\n",
    "lc_col = data_concat.apply(lc_formula, axis=1) # get column data with an index\n",
    "data_concat = data_concat.assign(lc=lc_col.values) # assign values to column 'Rf'\n",
    "data_concat"
   ]
  },
  {
   "cell_type": "markdown",
   "id": "9aaf671e",
   "metadata": {},
   "source": [
    "Soil behaviour type classification based on lc boundaries"
   ]
  },
  {
   "cell_type": "code",
   "execution_count": 25,
   "id": "3d275e10",
   "metadata": {},
   "outputs": [],
   "source": [
    "# soil behaviour type classification based on lc boundaries\n",
    "def label_soil_lc(row):\n",
    "    '''\n",
    "    Return a string value of soil type based on lc boundaries by Robertson Soil Classification\n",
    "    '''\n",
    "    if row.lc >= 3.6: return 'organic soil'\n",
    "    if (row.lc >= 2.95) & (row.lc < 3.6): return 'clays'\n",
    "    if (row.lc >= 2.6) & (row.lc < 2.95): return 'silt mixtures'\n",
    "    if (row.lc >= 2.05) & (row.lc < 2.6): return 'sand mixtures'\n",
    "    if (row.lc >= 1.31) & (row.lc < 2.05): return 'sands'\n",
    "    else: return 'gravelly sands to dense sand'"
   ]
  },
  {
   "cell_type": "code",
   "execution_count": 26,
   "id": "f4ce6912",
   "metadata": {},
   "outputs": [],
   "source": [
    "data_concat[\"soil_type\"] = data_concat.apply(label_soil_lc, axis=1)"
   ]
  },
  {
   "cell_type": "code",
   "execution_count": 27,
   "id": "8b5093e0",
   "metadata": {},
   "outputs": [
    {
     "data": {
      "text/html": [
       "<div>\n",
       "<style scoped>\n",
       "    .dataframe tbody tr th:only-of-type {\n",
       "        vertical-align: middle;\n",
       "    }\n",
       "\n",
       "    .dataframe tbody tr th {\n",
       "        vertical-align: top;\n",
       "    }\n",
       "\n",
       "    .dataframe thead th {\n",
       "        text-align: right;\n",
       "    }\n",
       "</style>\n",
       "<table border=\"1\" class=\"dataframe\">\n",
       "  <thead>\n",
       "    <tr style=\"text-align: right;\">\n",
       "      <th></th>\n",
       "      <th>depth</th>\n",
       "      <th>qc</th>\n",
       "      <th>fs</th>\n",
       "      <th>Rf</th>\n",
       "      <th>lc</th>\n",
       "      <th>soil_type</th>\n",
       "    </tr>\n",
       "  </thead>\n",
       "  <tbody>\n",
       "    <tr>\n",
       "      <th>0</th>\n",
       "      <td>0.015</td>\n",
       "      <td>3930.0</td>\n",
       "      <td>5.4</td>\n",
       "      <td>0.001374</td>\n",
       "      <td>1.242170</td>\n",
       "      <td>gravelly sands to dense sand</td>\n",
       "    </tr>\n",
       "    <tr>\n",
       "      <th>1</th>\n",
       "      <td>0.020</td>\n",
       "      <td>5060.0</td>\n",
       "      <td>5.4</td>\n",
       "      <td>0.001067</td>\n",
       "      <td>1.309667</td>\n",
       "      <td>gravelly sands to dense sand</td>\n",
       "    </tr>\n",
       "    <tr>\n",
       "      <th>2</th>\n",
       "      <td>0.025</td>\n",
       "      <td>5350.0</td>\n",
       "      <td>9.8</td>\n",
       "      <td>0.001832</td>\n",
       "      <td>1.331114</td>\n",
       "      <td>sands</td>\n",
       "    </tr>\n",
       "    <tr>\n",
       "      <th>3</th>\n",
       "      <td>0.030</td>\n",
       "      <td>5620.0</td>\n",
       "      <td>9.8</td>\n",
       "      <td>0.001744</td>\n",
       "      <td>1.350951</td>\n",
       "      <td>sands</td>\n",
       "    </tr>\n",
       "    <tr>\n",
       "      <th>4</th>\n",
       "      <td>0.035</td>\n",
       "      <td>5950.0</td>\n",
       "      <td>11.7</td>\n",
       "      <td>0.001966</td>\n",
       "      <td>1.376021</td>\n",
       "      <td>sands</td>\n",
       "    </tr>\n",
       "  </tbody>\n",
       "</table>\n",
       "</div>"
      ],
      "text/plain": [
       "   depth      qc    fs        Rf        lc                     soil_type\n",
       "0  0.015  3930.0   5.4  0.001374  1.242170  gravelly sands to dense sand\n",
       "1  0.020  5060.0   5.4  0.001067  1.309667  gravelly sands to dense sand\n",
       "2  0.025  5350.0   9.8  0.001832  1.331114                         sands\n",
       "3  0.030  5620.0   9.8  0.001744  1.350951                         sands\n",
       "4  0.035  5950.0  11.7  0.001966  1.376021                         sands"
      ]
     },
     "execution_count": 27,
     "metadata": {},
     "output_type": "execute_result"
    }
   ],
   "source": [
    "data_concat.head()"
   ]
  },
  {
   "cell_type": "code",
   "execution_count": 28,
   "id": "af3875d0",
   "metadata": {},
   "outputs": [
    {
     "name": "stdout",
     "output_type": "stream",
     "text": [
      "<class 'pandas.core.frame.DataFrame'>\n",
      "Index: 221139 entries, 0 to 229982\n",
      "Data columns (total 6 columns):\n",
      " #   Column     Non-Null Count   Dtype  \n",
      "---  ------     --------------   -----  \n",
      " 0   depth      221139 non-null  float64\n",
      " 1   qc         221139 non-null  float64\n",
      " 2   fs         221139 non-null  float64\n",
      " 3   Rf         221139 non-null  float64\n",
      " 4   lc         221139 non-null  float64\n",
      " 5   soil_type  221139 non-null  object \n",
      "dtypes: float64(5), object(1)\n",
      "memory usage: 11.8+ MB\n"
     ]
    }
   ],
   "source": [
    "data_concat.info()"
   ]
  },
  {
   "cell_type": "code",
   "execution_count": 29,
   "id": "9aff7f65",
   "metadata": {},
   "outputs": [],
   "source": [
    "# change data types \n",
    "data_concat['soil_type'] = data_concat['soil_type'].astype('category')"
   ]
  },
  {
   "cell_type": "code",
   "execution_count": 30,
   "id": "27cb6231",
   "metadata": {},
   "outputs": [
    {
     "name": "stdout",
     "output_type": "stream",
     "text": [
      "<class 'pandas.core.frame.DataFrame'>\n",
      "Index: 221139 entries, 0 to 229982\n",
      "Data columns (total 6 columns):\n",
      " #   Column     Non-Null Count   Dtype   \n",
      "---  ------     --------------   -----   \n",
      " 0   depth      221139 non-null  float64 \n",
      " 1   qc         221139 non-null  float64 \n",
      " 2   fs         221139 non-null  float64 \n",
      " 3   Rf         221139 non-null  float64 \n",
      " 4   lc         221139 non-null  float64 \n",
      " 5   soil_type  221139 non-null  category\n",
      "dtypes: category(1), float64(5)\n",
      "memory usage: 10.3 MB\n"
     ]
    }
   ],
   "source": [
    "# sanity check\n",
    "data_concat.info()"
   ]
  },
  {
   "cell_type": "markdown",
   "id": "e6603836",
   "metadata": {},
   "source": [
    "## Exploratory Data Analysis"
   ]
  },
  {
   "cell_type": "code",
   "execution_count": 31,
   "id": "d932a8b6",
   "metadata": {},
   "outputs": [
    {
     "data": {
      "text/plain": [
       "soil_type\n",
       "sands                           123750\n",
       "gravelly sands to dense sand     96634\n",
       "sand mixtures                      536\n",
       "silt mixtures                       89\n",
       "clays                               79\n",
       "organic soil                        51\n",
       "Name: count, dtype: int64"
      ]
     },
     "execution_count": 31,
     "metadata": {},
     "output_type": "execute_result"
    }
   ],
   "source": [
    "data_concat.soil_type.value_counts()"
   ]
  },
  {
   "cell_type": "code",
   "execution_count": 32,
   "id": "5a19108c",
   "metadata": {},
   "outputs": [
    {
     "data": {
      "image/png": "[encoded data removed]",
      "text/plain": [
       "<Figure size 640x480 with 1 Axes>"
      ]
     },
     "metadata": {},
     "output_type": "display_data"
    }
   ],
   "source": [
    "data_concat.soil_type.value_counts().sort_values(ascending=False).plot(kind='barh', \n",
    "                                                                       ylabel='',  \n",
    "                                                                       title='Frequency distribution of soil types');"
   ]
  },
  {
   "cell_type": "code",
   "execution_count": 33,
   "id": "a7c1cba3",
   "metadata": {},
   "outputs": [
    {
     "data": {
      "text/html": [
       "<div>\n",
       "<style scoped>\n",
       "    .dataframe tbody tr th:only-of-type {\n",
       "        vertical-align: middle;\n",
       "    }\n",
       "\n",
       "    .dataframe tbody tr th {\n",
       "        vertical-align: top;\n",
       "    }\n",
       "\n",
       "    .dataframe thead th {\n",
       "        text-align: right;\n",
       "    }\n",
       "</style>\n",
       "<table border=\"1\" class=\"dataframe\">\n",
       "  <thead>\n",
       "    <tr style=\"text-align: right;\">\n",
       "      <th></th>\n",
       "      <th>depth</th>\n",
       "      <th>qc</th>\n",
       "      <th>fs</th>\n",
       "      <th>Rf</th>\n",
       "      <th>lc</th>\n",
       "    </tr>\n",
       "  </thead>\n",
       "  <tbody>\n",
       "    <tr>\n",
       "      <th>count</th>\n",
       "      <td>221139.000000</td>\n",
       "      <td>221139.000000</td>\n",
       "      <td>221139.000000</td>\n",
       "      <td>221139.000000</td>\n",
       "      <td>221139.000000</td>\n",
       "    </tr>\n",
       "    <tr>\n",
       "      <th>mean</th>\n",
       "      <td>2.574564</td>\n",
       "      <td>2913.744749</td>\n",
       "      <td>159.158139</td>\n",
       "      <td>0.058250</td>\n",
       "      <td>1.351768</td>\n",
       "    </tr>\n",
       "    <tr>\n",
       "      <th>std</th>\n",
       "      <td>1.428493</td>\n",
       "      <td>1435.893688</td>\n",
       "      <td>84.696529</td>\n",
       "      <td>0.047164</td>\n",
       "      <td>0.117381</td>\n",
       "    </tr>\n",
       "    <tr>\n",
       "      <th>min</th>\n",
       "      <td>0.005000</td>\n",
       "      <td>10.000000</td>\n",
       "      <td>0.300000</td>\n",
       "      <td>0.000074</td>\n",
       "      <td>1.220880</td>\n",
       "    </tr>\n",
       "    <tr>\n",
       "      <th>25%</th>\n",
       "      <td>1.357000</td>\n",
       "      <td>2040.000000</td>\n",
       "      <td>108.500000</td>\n",
       "      <td>0.044159</td>\n",
       "      <td>1.289250</td>\n",
       "    </tr>\n",
       "    <tr>\n",
       "      <th>50%</th>\n",
       "      <td>2.569000</td>\n",
       "      <td>2480.000000</td>\n",
       "      <td>145.200000</td>\n",
       "      <td>0.059289</td>\n",
       "      <td>1.318859</td>\n",
       "    </tr>\n",
       "    <tr>\n",
       "      <th>75%</th>\n",
       "      <td>3.798000</td>\n",
       "      <td>3240.000000</td>\n",
       "      <td>191.600000</td>\n",
       "      <td>0.071632</td>\n",
       "      <td>1.382664</td>\n",
       "    </tr>\n",
       "    <tr>\n",
       "      <th>max</th>\n",
       "      <td>5.633000</td>\n",
       "      <td>6770.000000</td>\n",
       "      <td>444.000000</td>\n",
       "      <td>8.990000</td>\n",
       "      <td>4.877509</td>\n",
       "    </tr>\n",
       "  </tbody>\n",
       "</table>\n",
       "</div>"
      ],
      "text/plain": [
       "               depth             qc             fs             Rf  \\\n",
       "count  221139.000000  221139.000000  221139.000000  221139.000000   \n",
       "mean        2.574564    2913.744749     159.158139       0.058250   \n",
       "std         1.428493    1435.893688      84.696529       0.047164   \n",
       "min         0.005000      10.000000       0.300000       0.000074   \n",
       "25%         1.357000    2040.000000     108.500000       0.044159   \n",
       "50%         2.569000    2480.000000     145.200000       0.059289   \n",
       "75%         3.798000    3240.000000     191.600000       0.071632   \n",
       "max         5.633000    6770.000000     444.000000       8.990000   \n",
       "\n",
       "                  lc  \n",
       "count  221139.000000  \n",
       "mean        1.351768  \n",
       "std         0.117381  \n",
       "min         1.220880  \n",
       "25%         1.289250  \n",
       "50%         1.318859  \n",
       "75%         1.382664  \n",
       "max         4.877509  "
      ]
     },
     "execution_count": 33,
     "metadata": {},
     "output_type": "execute_result"
    }
   ],
   "source": [
    "data_concat.describe()"
   ]
  },
  {
   "cell_type": "code",
   "execution_count": 34,
   "id": "bd924f9d",
   "metadata": {},
   "outputs": [
    {
     "data": {
      "text/html": [
       "<div>\n",
       "<style scoped>\n",
       "    .dataframe tbody tr th:only-of-type {\n",
       "        vertical-align: middle;\n",
       "    }\n",
       "\n",
       "    .dataframe tbody tr th {\n",
       "        vertical-align: top;\n",
       "    }\n",
       "\n",
       "    .dataframe thead th {\n",
       "        text-align: right;\n",
       "    }\n",
       "</style>\n",
       "<table border=\"1\" class=\"dataframe\">\n",
       "  <thead>\n",
       "    <tr style=\"text-align: right;\">\n",
       "      <th></th>\n",
       "      <th>soil_type</th>\n",
       "    </tr>\n",
       "  </thead>\n",
       "  <tbody>\n",
       "    <tr>\n",
       "      <th>count</th>\n",
       "      <td>221139</td>\n",
       "    </tr>\n",
       "    <tr>\n",
       "      <th>unique</th>\n",
       "      <td>6</td>\n",
       "    </tr>\n",
       "    <tr>\n",
       "      <th>top</th>\n",
       "      <td>sands</td>\n",
       "    </tr>\n",
       "    <tr>\n",
       "      <th>freq</th>\n",
       "      <td>123750</td>\n",
       "    </tr>\n",
       "  </tbody>\n",
       "</table>\n",
       "</div>"
      ],
      "text/plain": [
       "       soil_type\n",
       "count     221139\n",
       "unique         6\n",
       "top        sands\n",
       "freq      123750"
      ]
     },
     "execution_count": 34,
     "metadata": {},
     "output_type": "execute_result"
    }
   ],
   "source": [
    "data_concat.describe(include='category')"
   ]
  },
  {
   "cell_type": "code",
   "execution_count": 35,
   "id": "4c4bd1b0",
   "metadata": {},
   "outputs": [
    {
     "data": {
      "image/png": "[encoded data removed]",
      "text/plain": [
       "<Figure size 640x480 with 1 Axes>"
      ]
     },
     "metadata": {},
     "output_type": "display_data"
    }
   ],
   "source": [
    "data_concat['qc'].plot(kind='hist');"
   ]
  },
  {
   "cell_type": "code",
   "execution_count": 36,
   "id": "d198e488",
   "metadata": {},
   "outputs": [
    {
     "data": {
      "image/png": "[encoded data removed]",
      "text/plain": [
       "<Figure size 640x480 with 1 Axes>"
      ]
     },
     "metadata": {},
     "output_type": "display_data"
    }
   ],
   "source": [
    "data_concat['fs'].plot(kind='hist');"
   ]
  },
  {
   "cell_type": "code",
   "execution_count": 37,
   "id": "7010771e",
   "metadata": {},
   "outputs": [
    {
     "data": {
      "image/png": "[encoded data removed]",
      "text/plain": [
       "<Figure size 640x480 with 1 Axes>"
      ]
     },
     "metadata": {},
     "output_type": "display_data"
    }
   ],
   "source": [
    "data_concat.plot(kind='box');"
   ]
  },
  {
   "cell_type": "code",
   "execution_count": 40,
   "id": "efdee34f",
   "metadata": {},
   "outputs": [
    {
     "data": {
      "image/png": "[encoded data removed]",
      "text/plain": [
       "<Figure size 640x480 with 2 Axes>"
      ]
     },
     "metadata": {},
     "output_type": "display_data"
    }
   ],
   "source": [
    "import seaborn as sns\n",
    "sns.heatmap(data_concat.corr(numeric_only=True), # nilai korelasi\n",
    "            annot=True,   # anotasi angka di dalam kotak heatmap\n",
    "            fmt=\".3f\",    # format 3 angka dibelakang koma \n",
    "            cmap='Reds'); # warna heatmap"
   ]
  },
  {
   "cell_type": "markdown",
   "id": "8c4b20bf",
   "metadata": {},
   "source": [
    "## Save the dataframe"
   ]
  },
  {
   "cell_type": "code",
   "execution_count": 38,
   "id": "eca4df7b",
   "metadata": {},
   "outputs": [],
   "source": [
    "# data_concat.to_csv('data_input/soil_behaviour_type_cpt.csv', index=False)  "
   ]
  },
  {
   "cell_type": "markdown",
   "id": "8269cd37",
   "metadata": {},
   "source": [
    "Saving data to pickle format to preserve data types:"
   ]
  },
  {
   "cell_type": "code",
   "execution_count": 39,
   "id": "277b8817",
   "metadata": {},
   "outputs": [],
   "source": [
    "# data_concat.to_pickle(\"data_input/soil_behaviour_type_cpt.pkl\")  "
   ]
  },
  {
   "cell_type": "markdown",
   "id": "35105b4b",
   "metadata": {},
   "source": [
    "# References\n",
    "\n",
    "- [Chala AT, Ray R. Assessing the Performance of Machine Learning Algorithms for Soil Classification Using Cone Penetration Test Data. Applied Sciences. 2023; 13(9):5758. https://doi.org/10.3390/app13095758](https://www.mdpi.com/2076-3417/13/9/5758)\n",
    "- [Robertson P.K., Soil Behaviour Type from the CPT: an update ](https://www.cpt-robertson.com/PublicationsPDF/2-56%20RobSBT.pdf)\n",
    "- [Jaksa, M. (1995). The Influence of Spatial Variability on the Geotechnical Design Properties of a Stiff, Overconsolidated Clay. Ph.D. Dissertation, University of Adelaide, Australia.](https://www.researchgate.net/publication/238346452_The_Influence_of_Spatial_Variability_on_the_Geotechnical_Design_Properties_of_a_Stiff_Overconsolidated_Clay)\n",
    "- [CPT databases](http://140.112.12.21/issmge/tc304.htm?=6)"
   ]
  }
 ],
 "metadata": {
  "kernelspec": {
   "display_name": "freeport",
   "language": "python",
   "name": "freeport"
  },
  "language_info": {
   "codemirror_mode": {
    "name": "ipython",
    "version": 3
   },
   "file_extension": ".py",
   "mimetype": "text/x-python",
   "name": "python",
   "nbconvert_exporter": "python",
   "pygments_lexer": "ipython3",
   "version": "3.10.12"
  },
  "toc": {
   "base_numbering": 1,
   "nav_menu": {},
   "number_sections": false,
   "sideBar": true,
   "skip_h1_title": false,
   "title_cell": "Table of Contents",
   "title_sidebar": "Contents",
   "toc_cell": false,
   "toc_position": {
    "height": "calc(100% - 180px)",
    "left": "10px",
    "top": "150px",
    "width": "288px"
   },
   "toc_section_display": true,
   "toc_window_display": false
  }
 },
 "nbformat": 4,
 "nbformat_minor": 5
}
